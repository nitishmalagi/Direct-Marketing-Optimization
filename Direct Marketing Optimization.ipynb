{
 "cells": [
  {
   "cell_type": "markdown",
   "metadata": {},
   "source": [
    "By: Nitish Malagi"
   ]
  },
  {
   "cell_type": "markdown",
   "metadata": {},
   "source": [
    "## Executive Summary"
   ]
  },
  {
   "cell_type": "markdown",
   "metadata": {},
   "source": [
    "The task at hand was to maximize revenue from direct marketing campaigns. The data given for this task included the Social-demographical data, products owned with volumes and inflow/outflow for past 3 months. For this project Juypter Notebook has been used with various Python libraries.  "
   ]
  },
  {
   "cell_type": "markdown",
   "metadata": {},
   "source": [
    "<b> Exploring data </b>: <br />To start with, the data was loaded into dataframes from all the sheets. Exploratory data analysis was done on all the social demographical data to see the diversity in data. Data for male was slightly greater than that of female along with some missing fields and the overall age varied between 0 and 100. The Current Account, Savings Account, Mutual Account, Credit card, Customer Loan and OVD counts were analysed using heat-map to see if there was any correlation betweent these features, but there was harldy any. Further, analysing the final sheet we find that Consumer Loans are the ones that are sold maximum and are responsible for accumulation of largest revenue. Consumer Loans are followed by Credit card and lastly Mutual funds."
   ]
  },
  {
   "cell_type": "markdown",
   "metadata": {},
   "source": [
    "<b> Preprocessing data </b>: <br />  Starting with the feature sex, it was converted to numerical feature by assining 0 and 1 and the missing values which were filled with 0 to balance the data. Next, the incorrect ages(where age is less than tenure) is replaced with the median of age of the set. The product acutal balances, inflow/outflow and the sales/revenue had empty entries which were replaced by 0. Then, all the dataframes were merged into one. All the entries in the Sales/Revenue (60%) were taken for training and the rest as target."
   ]
  },
  {
   "cell_type": "markdown",
   "metadata": {},
   "source": [
    "<b> Modeling</b> :\n",
    "<br />\n",
    "The Machine Learning Models that were considered were Random Forest and XGBoost to capture the nonlinear relationships and partial dependence of variables on the target. GridSearchCV was used on both models to find the best parameters for the algorithms and the train data was split into train/test further. MeanSquaredError was used as the performance metrics to decide on the best model. This model was then fit using the full train dataset using the best parameters.\n",
    "<p />\n",
    "Consumer loan, Credit card and Mutual funds all were given different subset of features to be trained on. \n",
    "For instance, to find out the propensity of availing a consumer loan, count of live consumer loans and actual consumer loans balance were removed from the independent variables. The reason is that these might have been reported after the client availed of the loan. Similarly, it was done for Credit card and mutual funds as well. \n",
    "<p />\n",
    "The Consumer loan has the most sale and the highest revenues. We have trained using the full training sample with a subset of features. According to the model, the top features that contribute the most towards higher propensity and revenue are Volume_DebPayemtOrder, ActualBal_SA, Tenure, Sex, Count_OVD and Volume_Deb.\n",
    "<p />\n",
    "Next, in a similar way a model was trained for credit card which predicted that the top features were TransactionDeb_Card, ActBal_MF, VolumeCred_CA, VolumeDeb_PaymentOrder, Age and Age. \n",
    "Further, to decide on Mutual Funds the top features were VolumeCred_CA, VolumeCred, VolumeDeb_CA, TransactionsDeb and ActualBal_CA.\n",
    "<p />\n",
    "So, basically we have trained the models using all the data(60%) which included Clients who don't have any loan, credit card or mutual funds. Hence, the predictions with less revenues are the clients who probably won't be availing any of the services. This is the strategy used to maximize revenue in this case study."
   ]
  },
  {
   "cell_type": "markdown",
   "metadata": {},
   "source": [
    "<b> Results</b> :\n",
    "<br />\n",
    "Top 100 clients with maximum predicted revenues should be targeted. The details on the list of clients and expected revenue based on the strategy are mentioned at the bottom of this file."
   ]
  },
  {
   "cell_type": "markdown",
   "metadata": {},
   "source": [
    "## 1. Importing libraries"
   ]
  },
  {
   "cell_type": "code",
   "execution_count": 1,
   "metadata": {},
   "outputs": [],
   "source": [
    "import numpy as np\n",
    "import pandas as pd\n",
    "import matplotlib.pyplot as plt\n",
    "import warnings\n",
    "import seaborn as sns\n",
    "import statistics\n",
    "import xgboost\n",
    "from sklearn.preprocessing import MinMaxScaler\n",
    "from sklearn.ensemble import RandomForestRegressor\n",
    "from sklearn import metrics\n",
    "from sklearn.model_selection import train_test_split\n",
    "from sklearn.model_selection import GridSearchCV"
   ]
  },
  {
   "cell_type": "code",
   "execution_count": 2,
   "metadata": {},
   "outputs": [],
   "source": [
    "warnings.filterwarnings(\"ignore\")"
   ]
  },
  {
   "cell_type": "markdown",
   "metadata": {},
   "source": [
    "## 2. Loading the data"
   ]
  },
  {
   "cell_type": "code",
   "execution_count": 3,
   "metadata": {},
   "outputs": [],
   "source": [
    "df_soc_dem = pd.read_excel(open(\"./Task_Data_Scientist_Internship_Dataset.xlsx\",'rb'), sheet_name = 1)\n",
    "df_prod_actBal = pd.read_excel(open(\"./Task_Data_Scientist_Internship_Dataset.xlsx\",'rb'), sheet_name = 2)\n",
    "df_inc_out = pd.read_excel(open(\"./Task_Data_Scientist_Internship_Dataset.xlsx\",'rb'), sheet_name = 3)\n",
    "df_sales_rev = pd.read_excel(open(\"./Task_Data_Scientist_Internship_Dataset.xlsx\",'rb'), sheet_name = 4)"
   ]
  },
  {
   "cell_type": "markdown",
   "metadata": {},
   "source": [
    "## 3. Exploratory Data Analysis"
   ]
  },
  {
   "cell_type": "markdown",
   "metadata": {},
   "source": [
    "### Sex"
   ]
  },
  {
   "cell_type": "code",
   "execution_count": 4,
   "metadata": {},
   "outputs": [
    {
     "data": {
      "image/png": "[encoded data removed]",
      "text/plain": [
       "<Figure size 432x432 with 1 Axes>"
      ]
     },
     "metadata": {
      "needs_background": "light"
     },
     "output_type": "display_data"
    }
   ],
   "source": [
    "plt.figure(figsize=(6,6))\n",
    "df_soc_dem.Sex.value_counts(dropna=False).plot.bar()\n",
    "plt.title('Gender Distribution')\n",
    "plt.xlabel('Gender')\n",
    "plt.ylabel('Count')\n",
    "plt.show()"
   ]
  },
  {
   "cell_type": "markdown",
   "metadata": {},
   "source": [
    "From the above, we can see that the dataset is slightly imbalanced and also some clients have missing value for sex."
   ]
  },
  {
   "cell_type": "markdown",
   "metadata": {},
   "source": [
    "### Age"
   ]
  },
  {
   "cell_type": "code",
   "execution_count": 5,
   "metadata": {},
   "outputs": [
    {
     "data": {
      "image/png": "[encoded data removed]",
      "text/plain": [
       "<Figure size 432x432 with 1 Axes>"
      ]
     },
     "metadata": {
      "needs_background": "light"
     },
     "output_type": "display_data"
    }
   ],
   "source": [
    "plt.figure(figsize=(6,6))\n",
    "bins= [0, 5, 10, 20, 30, 40, 50, 60, 70, 80, 90, 100]\n",
    "plt.hist(df_soc_dem.Age.values, bins=bins, edgecolor=\"k\")\n",
    "plt.xticks(bins)\n",
    "plt.title('Age Distribution')\n",
    "plt.xlabel('Age')\n",
    "plt.ylabel('Count')\n",
    "plt.show()"
   ]
  },
  {
   "cell_type": "markdown",
   "metadata": {},
   "source": [
    "We can see that majority of the clients are between the age of 20 and 70. What was also interesting to see is that there are some clients who are less than 5 years old."
   ]
  },
  {
   "cell_type": "markdown",
   "metadata": {},
   "source": [
    "### Tenure"
   ]
  },
  {
   "cell_type": "markdown",
   "metadata": {},
   "source": [
    "Below are the records where age is lesser than the Tenure or where the age is 0."
   ]
  },
  {
   "cell_type": "code",
   "execution_count": 6,
   "metadata": {},
   "outputs": [
    {
     "name": "stdout",
     "output_type": "stream",
     "text": [
      "Client IDs\n",
      "[23, 158, 225, 300, 316, 322, 350, 391, 394, 485, 490, 509, 544, 613, 638, 648, 672, 682, 785, 851, 856, 859, 878, 961, 1044, 1056, 1063, 1082, 1160, 1169, 1231, 1241, 1256, 1372, 1403, 1409, 1427, 1431, 1493, 1499, 1529, 1561, 1569, 1583, 1586, 1591, 1615]\n"
     ]
    }
   ],
   "source": [
    "print('Client IDs')\n",
    "invalid_age_list = list()\n",
    "for index, row in df_soc_dem.iterrows():    \n",
    "    if row.Age < (row.Tenure/12) or row.Age == 0:\n",
    "        invalid_age_list.append(row.Client)\n",
    "print(invalid_age_list)"
   ]
  },
  {
   "cell_type": "markdown",
   "metadata": {},
   "source": [
    "### Products"
   ]
  },
  {
   "cell_type": "code",
   "execution_count": 55,
   "metadata": {},
   "outputs": [
    {
     "data": {
      "image/png": "[encoded data removed]",
      "text/plain": [
       "<Figure size 576x432 with 2 Axes>"
      ]
     },
     "metadata": {
      "needs_background": "light"
     },
     "output_type": "display_data"
    }
   ],
   "source": [
    "plt.figure(figsize=(8,6))\n",
    "sns.heatmap(df_prod_actBal[['Count_CA', 'Count_SA', 'Count_MF', 'Count_OVD', 'Count_CC', 'Count_CL']].corr())\n",
    "plt.title('Count - Heat Map')\n",
    "plt.show()"
   ]
  },
  {
   "cell_type": "markdown",
   "metadata": {},
   "source": [
    "We can see that there is not a great amount of correlation between the different products that the clients have."
   ]
  },
  {
   "cell_type": "markdown",
   "metadata": {},
   "source": [
    "### Sales and Revenue"
   ]
  },
  {
   "cell_type": "code",
   "execution_count": 8,
   "metadata": {},
   "outputs": [
    {
     "data": {
      "image/png": "[encoded data removed]",
      "text/plain": [
       "<Figure size 432x360 with 1 Axes>"
      ]
     },
     "metadata": {
      "needs_background": "light"
     },
     "output_type": "display_data"
    }
   ],
   "source": [
    "positions = np.array([0, 1, 2])\n",
    "width = 0.3\n",
    "\n",
    "plt.figure(figsize=(6,5))\n",
    "plt.title('Sales Count')\n",
    "sale_pos = [df_sales_rev.Sale_CL.sum(), df_sales_rev.Sale_CC.sum(), df_sales_rev.Sale_MF.sum()]\n",
    "plt.bar(positions, sale_pos, width, color=\"orange\")\n",
    "\n",
    "sale_neg = [df_sales_rev.Sale_CL.count()-df_sales_rev.Sale_CL.sum(),\n",
    "            df_sales_rev.Sale_CC.count()-df_sales_rev.Sale_CC.sum(), \n",
    "            df_sales_rev.Sale_MF.count()-df_sales_rev.Sale_MF.sum()]\n",
    "plt.bar(positions + width, sale_neg, width, color=\"grey\")\n",
    "plt.legend(('Sale','No Sale'), loc=\"upper left\")\n",
    "plt.xticks([0.1, 1.15, 2.15] ,['Customer Loan','Credit Card','Mutual Fund'])\n",
    "plt.ylabel('Count')\n",
    "plt.show()"
   ]
  },
  {
   "cell_type": "code",
   "execution_count": 9,
   "metadata": {
    "scrolled": true
   },
   "outputs": [
    {
     "data": {
      "image/png": "[encoded data removed]",
      "text/plain": [
       "<Figure size 432x360 with 1 Axes>"
      ]
     },
     "metadata": {
      "needs_background": "light"
     },
     "output_type": "display_data"
    }
   ],
   "source": [
    "plt.figure(figsize=(6,5))\n",
    "\n",
    "y_pos = np.arange(3)\n",
    "rev = [df_sales_rev.Revenue_CL.sum(), df_sales_rev.Revenue_CC.sum(), df_sales_rev.Revenue_MF.sum()]\n",
    "\n",
    "plt.bar(y_pos, rev, align='center', color=\"grey\" )\n",
    "plt.xticks(y_pos, ['Customer Loan','Credit Card','Mutual Fund'])\n",
    "plt.ylabel('Revenue[EUR]')\n",
    "plt.title('Revenue Chart')\n",
    "plt.show()"
   ]
  },
  {
   "cell_type": "markdown",
   "metadata": {},
   "source": [
    "## 4. Preprocessing "
   ]
  },
  {
   "cell_type": "code",
   "execution_count": 10,
   "metadata": {},
   "outputs": [],
   "source": [
    "# Sex\n",
    "df_soc_dem = df_soc_dem.replace(\"F\",0)\n",
    "df_soc_dem = df_soc_dem.replace(\"M\",1)\n",
    "\n",
    "#replacing the missing sex with 0\n",
    "df_soc_dem = df_soc_dem.replace(np.NaN, 0)"
   ]
  },
  {
   "cell_type": "code",
   "execution_count": 11,
   "metadata": {},
   "outputs": [],
   "source": [
    "# Age and Tenure\n",
    "# replacing the incorrect ages(where age is less than tenure) with the median of age\n",
    "median_age = statistics.median(df_soc_dem.Age)\n",
    "df_soc_dem.loc[(df_soc_dem.Age < (df_soc_dem.Tenure/12)),'Age'] = median_age"
   ]
  },
  {
   "cell_type": "code",
   "execution_count": 12,
   "metadata": {},
   "outputs": [],
   "source": [
    "# Product Actual balance\n",
    "df_prod_actBal = df_prod_actBal.replace(np.NaN, 0)"
   ]
  },
  {
   "cell_type": "code",
   "execution_count": 13,
   "metadata": {},
   "outputs": [],
   "source": [
    "# Inflow/Outflow\n",
    "df_inc_out = df_inc_out.replace(np.NaN, 0)"
   ]
  },
  {
   "cell_type": "code",
   "execution_count": 14,
   "metadata": {},
   "outputs": [],
   "source": [
    "# Sales and Revenues\n",
    "df_sales_rev = df_sales_rev.replace(np.NaN, 0)"
   ]
  },
  {
   "cell_type": "markdown",
   "metadata": {},
   "source": [
    "#### Merging the dataframes into one"
   ]
  },
  {
   "cell_type": "code",
   "execution_count": 15,
   "metadata": {},
   "outputs": [],
   "source": [
    "df = pd.merge(df_soc_dem, df_prod_actBal, how='left', left_on='Client',right_on='Client')\n",
    "df = pd.merge(df, df_inc_out, how='left', left_on='Client',right_on='Client')\n",
    "df = pd.merge(df, df_sales_rev, how='left', left_on='Client',right_on='Client')"
   ]
  },
  {
   "cell_type": "markdown",
   "metadata": {},
   "source": [
    "Replacing the NaN values after joining the dataframe with 0s (for clients with no entry in the sales_revenue sheet)."
   ]
  },
  {
   "cell_type": "code",
   "execution_count": 16,
   "metadata": {},
   "outputs": [],
   "source": [
    "df = df.replace(np.NaN, 0)"
   ]
  },
  {
   "cell_type": "code",
   "execution_count": 17,
   "metadata": {
    "scrolled": false
   },
   "outputs": [
    {
     "data": {
      "text/html": [
       "<div>\n",
       "<style scoped>\n",
       "    .dataframe tbody tr th:only-of-type {\n",
       "        vertical-align: middle;\n",
       "    }\n",
       "\n",
       "    .dataframe tbody tr th {\n",
       "        vertical-align: top;\n",
       "    }\n",
       "\n",
       "    .dataframe thead th {\n",
       "        text-align: right;\n",
       "    }\n",
       "</style>\n",
       "<table border=\"1\" class=\"dataframe\">\n",
       "  <thead>\n",
       "    <tr style=\"text-align: right;\">\n",
       "      <th></th>\n",
       "      <th>Client</th>\n",
       "      <th>Sex</th>\n",
       "      <th>Age</th>\n",
       "      <th>Tenure</th>\n",
       "      <th>Count_CA</th>\n",
       "      <th>Count_SA</th>\n",
       "      <th>Count_MF</th>\n",
       "      <th>Count_OVD</th>\n",
       "      <th>Count_CC</th>\n",
       "      <th>Count_CL</th>\n",
       "      <th>...</th>\n",
       "      <th>TransactionsDeb_CA</th>\n",
       "      <th>TransactionsDebCash_Card</th>\n",
       "      <th>TransactionsDebCashless_Card</th>\n",
       "      <th>TransactionsDeb_PaymentOrder</th>\n",
       "      <th>Sale_MF</th>\n",
       "      <th>Sale_CC</th>\n",
       "      <th>Sale_CL</th>\n",
       "      <th>Revenue_MF</th>\n",
       "      <th>Revenue_CC</th>\n",
       "      <th>Revenue_CL</th>\n",
       "    </tr>\n",
       "  </thead>\n",
       "  <tbody>\n",
       "    <tr>\n",
       "      <td>0</td>\n",
       "      <td>1</td>\n",
       "      <td>0.0</td>\n",
       "      <td>51</td>\n",
       "      <td>7</td>\n",
       "      <td>1</td>\n",
       "      <td>0.0</td>\n",
       "      <td>0.0</td>\n",
       "      <td>1.0</td>\n",
       "      <td>0.0</td>\n",
       "      <td>0.0</td>\n",
       "      <td>...</td>\n",
       "      <td>30.0</td>\n",
       "      <td>3.0</td>\n",
       "      <td>12.0</td>\n",
       "      <td>9.0</td>\n",
       "      <td>1.0</td>\n",
       "      <td>0.0</td>\n",
       "      <td>0.0</td>\n",
       "      <td>26.972679</td>\n",
       "      <td>0.0</td>\n",
       "      <td>0.0</td>\n",
       "    </tr>\n",
       "    <tr>\n",
       "      <td>1</td>\n",
       "      <td>2</td>\n",
       "      <td>1.0</td>\n",
       "      <td>43</td>\n",
       "      <td>152</td>\n",
       "      <td>1</td>\n",
       "      <td>1.0</td>\n",
       "      <td>0.0</td>\n",
       "      <td>0.0</td>\n",
       "      <td>0.0</td>\n",
       "      <td>0.0</td>\n",
       "      <td>...</td>\n",
       "      <td>6.0</td>\n",
       "      <td>2.0</td>\n",
       "      <td>2.0</td>\n",
       "      <td>1.0</td>\n",
       "      <td>0.0</td>\n",
       "      <td>0.0</td>\n",
       "      <td>0.0</td>\n",
       "      <td>0.000000</td>\n",
       "      <td>0.0</td>\n",
       "      <td>0.0</td>\n",
       "    </tr>\n",
       "    <tr>\n",
       "      <td>2</td>\n",
       "      <td>3</td>\n",
       "      <td>1.0</td>\n",
       "      <td>17</td>\n",
       "      <td>140</td>\n",
       "      <td>1</td>\n",
       "      <td>0.0</td>\n",
       "      <td>1.0</td>\n",
       "      <td>0.0</td>\n",
       "      <td>0.0</td>\n",
       "      <td>0.0</td>\n",
       "      <td>...</td>\n",
       "      <td>3.0</td>\n",
       "      <td>0.0</td>\n",
       "      <td>1.0</td>\n",
       "      <td>1.0</td>\n",
       "      <td>0.0</td>\n",
       "      <td>0.0</td>\n",
       "      <td>0.0</td>\n",
       "      <td>0.000000</td>\n",
       "      <td>0.0</td>\n",
       "      <td>0.0</td>\n",
       "    </tr>\n",
       "    <tr>\n",
       "      <td>3</td>\n",
       "      <td>4</td>\n",
       "      <td>1.0</td>\n",
       "      <td>24</td>\n",
       "      <td>153</td>\n",
       "      <td>1</td>\n",
       "      <td>1.0</td>\n",
       "      <td>0.0</td>\n",
       "      <td>0.0</td>\n",
       "      <td>1.0</td>\n",
       "      <td>0.0</td>\n",
       "      <td>...</td>\n",
       "      <td>36.0</td>\n",
       "      <td>6.0</td>\n",
       "      <td>12.0</td>\n",
       "      <td>13.0</td>\n",
       "      <td>0.0</td>\n",
       "      <td>0.0</td>\n",
       "      <td>0.0</td>\n",
       "      <td>0.000000</td>\n",
       "      <td>0.0</td>\n",
       "      <td>0.0</td>\n",
       "    </tr>\n",
       "    <tr>\n",
       "      <td>4</td>\n",
       "      <td>5</td>\n",
       "      <td>0.0</td>\n",
       "      <td>58</td>\n",
       "      <td>200</td>\n",
       "      <td>1</td>\n",
       "      <td>1.0</td>\n",
       "      <td>0.0</td>\n",
       "      <td>0.0</td>\n",
       "      <td>0.0</td>\n",
       "      <td>0.0</td>\n",
       "      <td>...</td>\n",
       "      <td>41.0</td>\n",
       "      <td>4.0</td>\n",
       "      <td>17.0</td>\n",
       "      <td>13.0</td>\n",
       "      <td>0.0</td>\n",
       "      <td>0.0</td>\n",
       "      <td>0.0</td>\n",
       "      <td>0.000000</td>\n",
       "      <td>0.0</td>\n",
       "      <td>0.0</td>\n",
       "    </tr>\n",
       "  </tbody>\n",
       "</table>\n",
       "<p>5 rows × 36 columns</p>\n",
       "</div>"
      ],
      "text/plain": [
       "   Client  Sex  Age  Tenure  Count_CA  Count_SA  Count_MF  Count_OVD  \\\n",
       "0       1  0.0   51       7         1       0.0       0.0        1.0   \n",
       "1       2  1.0   43     152         1       1.0       0.0        0.0   \n",
       "2       3  1.0   17     140         1       0.0       1.0        0.0   \n",
       "3       4  1.0   24     153         1       1.0       0.0        0.0   \n",
       "4       5  0.0   58     200         1       1.0       0.0        0.0   \n",
       "\n",
       "   Count_CC  Count_CL  ...  TransactionsDeb_CA  TransactionsDebCash_Card  \\\n",
       "0       0.0       0.0  ...                30.0                       3.0   \n",
       "1       0.0       0.0  ...                 6.0                       2.0   \n",
       "2       0.0       0.0  ...                 3.0                       0.0   \n",
       "3       1.0       0.0  ...                36.0                       6.0   \n",
       "4       0.0       0.0  ...                41.0                       4.0   \n",
       "\n",
       "   TransactionsDebCashless_Card  TransactionsDeb_PaymentOrder  Sale_MF  \\\n",
       "0                          12.0                           9.0      1.0   \n",
       "1                           2.0                           1.0      0.0   \n",
       "2                           1.0                           1.0      0.0   \n",
       "3                          12.0                          13.0      0.0   \n",
       "4                          17.0                          13.0      0.0   \n",
       "\n",
       "   Sale_CC  Sale_CL  Revenue_MF  Revenue_CC  Revenue_CL  \n",
       "0      0.0      0.0   26.972679         0.0         0.0  \n",
       "1      0.0      0.0    0.000000         0.0         0.0  \n",
       "2      0.0      0.0    0.000000         0.0         0.0  \n",
       "3      0.0      0.0    0.000000         0.0         0.0  \n",
       "4      0.0      0.0    0.000000         0.0         0.0  \n",
       "\n",
       "[5 rows x 36 columns]"
      ]
     },
     "execution_count": 17,
     "metadata": {},
     "output_type": "execute_result"
    }
   ],
   "source": [
    "df.head()"
   ]
  },
  {
   "cell_type": "code",
   "execution_count": 18,
   "metadata": {
    "scrolled": true
   },
   "outputs": [
    {
     "data": {
      "text/plain": [
       "(1615, 36)"
      ]
     },
     "execution_count": 18,
     "metadata": {},
     "output_type": "execute_result"
    }
   ],
   "source": [
    "df.shape"
   ]
  },
  {
   "cell_type": "markdown",
   "metadata": {},
   "source": [
    "Making a train and test dataframe to make predications."
   ]
  },
  {
   "cell_type": "code",
   "execution_count": 19,
   "metadata": {},
   "outputs": [],
   "source": [
    "train_df = df[df.Client.isin(df_sales_rev.Client.values)].reset_index(drop=True)"
   ]
  },
  {
   "cell_type": "code",
   "execution_count": 20,
   "metadata": {},
   "outputs": [
    {
     "data": {
      "text/html": [
       "<div>\n",
       "<style scoped>\n",
       "    .dataframe tbody tr th:only-of-type {\n",
       "        vertical-align: middle;\n",
       "    }\n",
       "\n",
       "    .dataframe tbody tr th {\n",
       "        vertical-align: top;\n",
       "    }\n",
       "\n",
       "    .dataframe thead th {\n",
       "        text-align: right;\n",
       "    }\n",
       "</style>\n",
       "<table border=\"1\" class=\"dataframe\">\n",
       "  <thead>\n",
       "    <tr style=\"text-align: right;\">\n",
       "      <th></th>\n",
       "      <th>Client</th>\n",
       "      <th>Sex</th>\n",
       "      <th>Age</th>\n",
       "      <th>Tenure</th>\n",
       "      <th>Count_CA</th>\n",
       "      <th>Count_SA</th>\n",
       "      <th>Count_MF</th>\n",
       "      <th>Count_OVD</th>\n",
       "      <th>Count_CC</th>\n",
       "      <th>Count_CL</th>\n",
       "      <th>...</th>\n",
       "      <th>TransactionsDeb_CA</th>\n",
       "      <th>TransactionsDebCash_Card</th>\n",
       "      <th>TransactionsDebCashless_Card</th>\n",
       "      <th>TransactionsDeb_PaymentOrder</th>\n",
       "      <th>Sale_MF</th>\n",
       "      <th>Sale_CC</th>\n",
       "      <th>Sale_CL</th>\n",
       "      <th>Revenue_MF</th>\n",
       "      <th>Revenue_CC</th>\n",
       "      <th>Revenue_CL</th>\n",
       "    </tr>\n",
       "  </thead>\n",
       "  <tbody>\n",
       "    <tr>\n",
       "      <td>0</td>\n",
       "      <td>3</td>\n",
       "      <td>1.0</td>\n",
       "      <td>17</td>\n",
       "      <td>140</td>\n",
       "      <td>1</td>\n",
       "      <td>0.0</td>\n",
       "      <td>1.0</td>\n",
       "      <td>0.0</td>\n",
       "      <td>0.0</td>\n",
       "      <td>0.0</td>\n",
       "      <td>...</td>\n",
       "      <td>3.0</td>\n",
       "      <td>0.0</td>\n",
       "      <td>1.0</td>\n",
       "      <td>1.0</td>\n",
       "      <td>0.0</td>\n",
       "      <td>0.0</td>\n",
       "      <td>0.0</td>\n",
       "      <td>0.0</td>\n",
       "      <td>0.0</td>\n",
       "      <td>0.0</td>\n",
       "    </tr>\n",
       "    <tr>\n",
       "      <td>1</td>\n",
       "      <td>4</td>\n",
       "      <td>1.0</td>\n",
       "      <td>24</td>\n",
       "      <td>153</td>\n",
       "      <td>1</td>\n",
       "      <td>1.0</td>\n",
       "      <td>0.0</td>\n",
       "      <td>0.0</td>\n",
       "      <td>1.0</td>\n",
       "      <td>0.0</td>\n",
       "      <td>...</td>\n",
       "      <td>36.0</td>\n",
       "      <td>6.0</td>\n",
       "      <td>12.0</td>\n",
       "      <td>13.0</td>\n",
       "      <td>0.0</td>\n",
       "      <td>0.0</td>\n",
       "      <td>0.0</td>\n",
       "      <td>0.0</td>\n",
       "      <td>0.0</td>\n",
       "      <td>0.0</td>\n",
       "    </tr>\n",
       "    <tr>\n",
       "      <td>2</td>\n",
       "      <td>5</td>\n",
       "      <td>0.0</td>\n",
       "      <td>58</td>\n",
       "      <td>200</td>\n",
       "      <td>1</td>\n",
       "      <td>1.0</td>\n",
       "      <td>0.0</td>\n",
       "      <td>0.0</td>\n",
       "      <td>0.0</td>\n",
       "      <td>0.0</td>\n",
       "      <td>...</td>\n",
       "      <td>41.0</td>\n",
       "      <td>4.0</td>\n",
       "      <td>17.0</td>\n",
       "      <td>13.0</td>\n",
       "      <td>0.0</td>\n",
       "      <td>0.0</td>\n",
       "      <td>0.0</td>\n",
       "      <td>0.0</td>\n",
       "      <td>0.0</td>\n",
       "      <td>0.0</td>\n",
       "    </tr>\n",
       "    <tr>\n",
       "      <td>3</td>\n",
       "      <td>7</td>\n",
       "      <td>0.0</td>\n",
       "      <td>55</td>\n",
       "      <td>227</td>\n",
       "      <td>1</td>\n",
       "      <td>0.0</td>\n",
       "      <td>0.0</td>\n",
       "      <td>0.0</td>\n",
       "      <td>0.0</td>\n",
       "      <td>0.0</td>\n",
       "      <td>...</td>\n",
       "      <td>10.0</td>\n",
       "      <td>1.0</td>\n",
       "      <td>6.0</td>\n",
       "      <td>1.0</td>\n",
       "      <td>0.0</td>\n",
       "      <td>0.0</td>\n",
       "      <td>0.0</td>\n",
       "      <td>0.0</td>\n",
       "      <td>0.0</td>\n",
       "      <td>0.0</td>\n",
       "    </tr>\n",
       "    <tr>\n",
       "      <td>4</td>\n",
       "      <td>9</td>\n",
       "      <td>0.0</td>\n",
       "      <td>33</td>\n",
       "      <td>182</td>\n",
       "      <td>1</td>\n",
       "      <td>0.0</td>\n",
       "      <td>0.0</td>\n",
       "      <td>1.0</td>\n",
       "      <td>0.0</td>\n",
       "      <td>0.0</td>\n",
       "      <td>...</td>\n",
       "      <td>7.0</td>\n",
       "      <td>1.0</td>\n",
       "      <td>0.0</td>\n",
       "      <td>3.0</td>\n",
       "      <td>0.0</td>\n",
       "      <td>0.0</td>\n",
       "      <td>0.0</td>\n",
       "      <td>0.0</td>\n",
       "      <td>0.0</td>\n",
       "      <td>0.0</td>\n",
       "    </tr>\n",
       "  </tbody>\n",
       "</table>\n",
       "<p>5 rows × 36 columns</p>\n",
       "</div>"
      ],
      "text/plain": [
       "   Client  Sex  Age  Tenure  Count_CA  Count_SA  Count_MF  Count_OVD  \\\n",
       "0       3  1.0   17     140         1       0.0       1.0        0.0   \n",
       "1       4  1.0   24     153         1       1.0       0.0        0.0   \n",
       "2       5  0.0   58     200         1       1.0       0.0        0.0   \n",
       "3       7  0.0   55     227         1       0.0       0.0        0.0   \n",
       "4       9  0.0   33     182         1       0.0       0.0        1.0   \n",
       "\n",
       "   Count_CC  Count_CL  ...  TransactionsDeb_CA  TransactionsDebCash_Card  \\\n",
       "0       0.0       0.0  ...                 3.0                       0.0   \n",
       "1       1.0       0.0  ...                36.0                       6.0   \n",
       "2       0.0       0.0  ...                41.0                       4.0   \n",
       "3       0.0       0.0  ...                10.0                       1.0   \n",
       "4       0.0       0.0  ...                 7.0                       1.0   \n",
       "\n",
       "   TransactionsDebCashless_Card  TransactionsDeb_PaymentOrder  Sale_MF  \\\n",
       "0                           1.0                           1.0      0.0   \n",
       "1                          12.0                          13.0      0.0   \n",
       "2                          17.0                          13.0      0.0   \n",
       "3                           6.0                           1.0      0.0   \n",
       "4                           0.0                           3.0      0.0   \n",
       "\n",
       "   Sale_CC  Sale_CL  Revenue_MF  Revenue_CC  Revenue_CL  \n",
       "0      0.0      0.0         0.0         0.0         0.0  \n",
       "1      0.0      0.0         0.0         0.0         0.0  \n",
       "2      0.0      0.0         0.0         0.0         0.0  \n",
       "3      0.0      0.0         0.0         0.0         0.0  \n",
       "4      0.0      0.0         0.0         0.0         0.0  \n",
       "\n",
       "[5 rows x 36 columns]"
      ]
     },
     "execution_count": 20,
     "metadata": {},
     "output_type": "execute_result"
    }
   ],
   "source": [
    "test_df = df[~df.Client.isin(df_sales_rev.Client.values)].reset_index(drop=True)\n",
    "test_df.head()"
   ]
  },
  {
   "cell_type": "markdown",
   "metadata": {},
   "source": [
    "## 5. Model building"
   ]
  },
  {
   "cell_type": "markdown",
   "metadata": {},
   "source": [
    "### Consumer Loans"
   ]
  },
  {
   "cell_type": "code",
   "execution_count": 21,
   "metadata": {},
   "outputs": [],
   "source": [
    "X_cl = train_df[['Sex', 'Age', 'Tenure', 'Count_CA', 'Count_SA', 'Count_MF',\n",
    "       'Count_OVD', 'Count_CC', 'ActBal_CA', 'ActBal_SA',\n",
    "       'ActBal_MF', 'ActBal_OVD', 'ActBal_CC', 'VolumeCred',\n",
    "       'VolumeCred_CA', 'TransactionsCred', 'TransactionsCred_CA', 'VolumeDeb',\n",
    "       'VolumeDeb_CA', 'VolumeDebCash_Card', 'VolumeDebCashless_Card',\n",
    "       'VolumeDeb_PaymentOrder', 'TransactionsDeb', 'TransactionsDeb_CA',\n",
    "       'TransactionsDebCash_Card', 'TransactionsDebCashless_Card',\n",
    "       'TransactionsDeb_PaymentOrder']]\n",
    "\n",
    "y_cl = train_df[['Revenue_CL']]\n",
    "\n",
    "X_train_cl, X_test_cl, y_train_cl, y_test_cl = train_test_split(X_cl, y_cl, test_size=0.20, random_state=42)\n",
    "\n",
    "scaler = MinMaxScaler()\n",
    "X_train_cl_scaled = scaler.fit_transform(X_train_cl)\n",
    "X_test_cl_scaled = scaler.transform(X_test_cl)"
   ]
  },
  {
   "cell_type": "markdown",
   "metadata": {},
   "source": [
    "#### XGBoost"
   ]
  },
  {
   "cell_type": "code",
   "execution_count": 22,
   "metadata": {},
   "outputs": [
    {
     "data": {
      "text/plain": [
       "GridSearchCV(cv=None, error_score=nan,\n",
       "             estimator=XGBRegressor(base_score=0.5, booster='gbtree',\n",
       "                                    colsample_bylevel=1, colsample_bynode=1,\n",
       "                                    colsample_bytree=1, gamma=0,\n",
       "                                    importance_type='gain', learning_rate=0.2,\n",
       "                                    max_delta_step=0, max_depth=3,\n",
       "                                    min_child_weight=1, missing=None,\n",
       "                                    n_estimators=100, n_jobs=1, nthread=-1,\n",
       "                                    objective='reg:squarederror',\n",
       "                                    random_state=0, reg_alpha...,\n",
       "                                    scale_pos_weight=1, seed=None, silent=None,\n",
       "                                    subsample=1, verbosity=1),\n",
       "             iid='deprecated', n_jobs=None,\n",
       "             param_grid={'colsample_bytree': [0.6, 0.8, 1.0],\n",
       "                         'gamma': [0.5, 1, 1.5, 2, 5], 'max_depth': [3, 4, 5],\n",
       "                         'min_child_weight': [1, 5, 10],\n",
       "                         'n_estimators': [10, 50, 100],\n",
       "                         'subsample': [0.6, 0.8, 1.0]},\n",
       "             pre_dispatch='2*n_jobs', refit=True, return_train_score=False,\n",
       "             scoring=None, verbose=0)"
      ]
     },
     "execution_count": 22,
     "metadata": {},
     "output_type": "execute_result"
    }
   ],
   "source": [
    "params = {'min_child_weight': [1, 5, 10],\n",
    "          'gamma': [0.5, 1, 1.5, 2, 5],\n",
    "          'subsample': [0.6, 0.8, 1.0],\n",
    "          'colsample_bytree': [0.6, 0.8, 1.0],\n",
    "          'max_depth': [3, 4, 5],\n",
    "          'n_estimators': [10, 50, 100]\n",
    "         }\n",
    "\n",
    "clf_xgb = GridSearchCV(xgboost.XGBRegressor(objective ='reg:squarederror', learning_rate = 0.2, nthread=-1),\n",
    "                   params)\n",
    "clf_xgb.fit(X_train_cl_scaled, y_train_cl)"
   ]
  },
  {
   "cell_type": "code",
   "execution_count": 23,
   "metadata": {},
   "outputs": [
    {
     "name": "stdout",
     "output_type": "stream",
     "text": [
      "Mean Squared Error - XGBoost:  39.76715051132458\n"
     ]
    }
   ],
   "source": [
    "print('Mean Squared Error - XGBoost: ',\n",
    "      np.mean((y_test_cl['Revenue_CL'].values - clf_xgb.predict(X_test_cl_scaled))**2))"
   ]
  },
  {
   "cell_type": "markdown",
   "metadata": {},
   "source": [
    "#### RandomForest"
   ]
  },
  {
   "cell_type": "code",
   "execution_count": 24,
   "metadata": {
    "scrolled": false
   },
   "outputs": [
    {
     "data": {
      "text/plain": [
       "GridSearchCV(cv=None, error_score=nan,\n",
       "             estimator=RandomForestRegressor(bootstrap=True, ccp_alpha=0.0,\n",
       "                                             criterion='mse', max_depth=None,\n",
       "                                             max_features='auto',\n",
       "                                             max_leaf_nodes=None,\n",
       "                                             max_samples=None,\n",
       "                                             min_impurity_decrease=0.0,\n",
       "                                             min_impurity_split=None,\n",
       "                                             min_samples_leaf=1,\n",
       "                                             min_samples_split=2,\n",
       "                                             min_weight_fraction_leaf=0.0,\n",
       "                                             n_estimators=100, n_jobs=None,\n",
       "                                             oob_score=False, random_state=None,\n",
       "                                             verbose=0, warm_start=False),\n",
       "             iid='deprecated', n_jobs=-1,\n",
       "             param_grid={'max_depth': range(3, 7),\n",
       "                         'max_features': ['auto', 'sqrt', 'log2'],\n",
       "                         'min_samples_split': [2, 4, 8],\n",
       "                         'n_estimators': [10, 50, 100, 150, 200]},\n",
       "             pre_dispatch='2*n_jobs', refit=True, return_train_score=False,\n",
       "             scoring=None, verbose=0)"
      ]
     },
     "execution_count": 24,
     "metadata": {},
     "output_type": "execute_result"
    }
   ],
   "source": [
    "param_grid = {\n",
    "    \"n_estimators\": [10, 50, 100, 150, 200],\n",
    "    \"max_features\": [\"auto\", \"sqrt\", \"log2\"],\n",
    "    \"min_samples_split\": [2,4,8],\n",
    "    'max_depth': range(3,7)\n",
    "}\n",
    "\n",
    "clf_rf = GridSearchCV(RandomForestRegressor(),param_grid, n_jobs=-1)\n",
    "\n",
    "clf_rf.fit(X_train_cl_scaled, y_train_cl)"
   ]
  },
  {
   "cell_type": "code",
   "execution_count": 25,
   "metadata": {},
   "outputs": [
    {
     "name": "stdout",
     "output_type": "stream",
     "text": [
      "Mean Squared Error - RandomForest:  37.58752144914849\n"
     ]
    }
   ],
   "source": [
    "print('Mean Squared Error - RandomForest: ',\n",
    "      np.mean((y_test_cl['Revenue_CL'].values - clf_rf.predict(X_test_cl_scaled))**2))"
   ]
  },
  {
   "cell_type": "markdown",
   "metadata": {},
   "source": [
    "#### Since, MSE is almose the same for  both models we use XGBoost to make predictions."
   ]
  },
  {
   "cell_type": "code",
   "execution_count": 26,
   "metadata": {},
   "outputs": [
    {
     "data": {
      "text/plain": [
       "{'colsample_bytree': 0.8,\n",
       " 'gamma': 5,\n",
       " 'max_depth': 5,\n",
       " 'min_child_weight': 10,\n",
       " 'n_estimators': 10,\n",
       " 'subsample': 1.0}"
      ]
     },
     "execution_count": 26,
     "metadata": {},
     "output_type": "execute_result"
    }
   ],
   "source": [
    "clf_xgb.best_params_"
   ]
  },
  {
   "cell_type": "markdown",
   "metadata": {},
   "source": [
    "Fitting the model with the best parameters."
   ]
  },
  {
   "cell_type": "code",
   "execution_count": 27,
   "metadata": {},
   "outputs": [
    {
     "data": {
      "text/plain": [
       "XGBRegressor(base_score=0.5, booster='gbtree', colsample_bylevel=1,\n",
       "             colsample_bynode=1, colsample_bytree=0.8, gamma=5,\n",
       "             importance_type='gain', learning_rate=0.2, max_delta_step=0,\n",
       "             max_depth=5, min_child_weight=10, missing=None, n_estimators=10,\n",
       "             n_jobs=1, nthread=-1, objective='reg:squarederror', random_state=0,\n",
       "             reg_alpha=0, reg_lambda=1, scale_pos_weight=1, seed=None,\n",
       "             silent=None, subsample=1, verbosity=1)"
      ]
     },
     "execution_count": 27,
     "metadata": {},
     "output_type": "execute_result"
    }
   ],
   "source": [
    "cl_model = xgboost.XGBRegressor(objective ='reg:squarederror', learning_rate = 0.2, nthread=-1,\n",
    "                             colsample_bytree= 0.8, gamma= 5, max_depth= 5,\n",
    "                             min_child_weight= 10, n_estimators= 10, subsample= 1) \n",
    "\n",
    "cl_model.fit(X_train_cl_scaled, y_train_cl)"
   ]
  },
  {
   "cell_type": "code",
   "execution_count": 28,
   "metadata": {},
   "outputs": [
    {
     "data": {
      "image/png": "[encoded data removed]",
      "text/plain": [
       "<Figure size 720x504 with 1 Axes>"
      ]
     },
     "metadata": {
      "needs_background": "light"
     },
     "output_type": "display_data"
    }
   ],
   "source": [
    "cl_imp_df = pd.DataFrame({'Feature':X_cl.columns,\n",
    "                          'Feature Score': cl_model.feature_importances_})\n",
    "cl_imp_df = cl_imp_df.sort_values(by=['Feature Score'])\n",
    "\n",
    "plt.figure(figsize=(10,7))\n",
    "plt.barh(cl_imp_df['Feature'], cl_imp_df['Feature Score'])\n",
    "plt.title('Consumer Loan Feature Scores')\n",
    "plt.xlabel('Score')\n",
    "plt.show()"
   ]
  },
  {
   "cell_type": "code",
   "execution_count": 29,
   "metadata": {},
   "outputs": [
    {
     "data": {
      "text/plain": [
       "XGBRegressor(base_score=0.5, booster='gbtree', colsample_bylevel=1,\n",
       "             colsample_bynode=1, colsample_bytree=0.8, gamma=5,\n",
       "             importance_type='gain', learning_rate=0.2, max_delta_step=0,\n",
       "             max_depth=5, min_child_weight=10, missing=None, n_estimators=10,\n",
       "             n_jobs=1, nthread=-1, objective='reg:squarederror', random_state=0,\n",
       "             reg_alpha=0, reg_lambda=1, scale_pos_weight=1, seed=None,\n",
       "             silent=None, subsample=1, verbosity=1)"
      ]
     },
     "execution_count": 29,
     "metadata": {},
     "output_type": "execute_result"
    }
   ],
   "source": [
    "cl_model.fit(X_cl, y_cl)"
   ]
  },
  {
   "cell_type": "code",
   "execution_count": 30,
   "metadata": {
    "scrolled": true
   },
   "outputs": [
    {
     "data": {
      "text/html": [
       "<div>\n",
       "<style scoped>\n",
       "    .dataframe tbody tr th:only-of-type {\n",
       "        vertical-align: middle;\n",
       "    }\n",
       "\n",
       "    .dataframe tbody tr th {\n",
       "        vertical-align: top;\n",
       "    }\n",
       "\n",
       "    .dataframe thead th {\n",
       "        text-align: right;\n",
       "    }\n",
       "</style>\n",
       "<table border=\"1\" class=\"dataframe\">\n",
       "  <thead>\n",
       "    <tr style=\"text-align: right;\">\n",
       "      <th></th>\n",
       "      <th>Client</th>\n",
       "      <th>Revenue_CL</th>\n",
       "    </tr>\n",
       "  </thead>\n",
       "  <tbody>\n",
       "    <tr>\n",
       "      <td>275</td>\n",
       "      <td>674</td>\n",
       "      <td>12.473426</td>\n",
       "    </tr>\n",
       "    <tr>\n",
       "      <td>582</td>\n",
       "      <td>1455</td>\n",
       "      <td>10.863647</td>\n",
       "    </tr>\n",
       "    <tr>\n",
       "      <td>589</td>\n",
       "      <td>1474</td>\n",
       "      <td>10.516529</td>\n",
       "    </tr>\n",
       "    <tr>\n",
       "      <td>335</td>\n",
       "      <td>828</td>\n",
       "      <td>10.444112</td>\n",
       "    </tr>\n",
       "    <tr>\n",
       "      <td>287</td>\n",
       "      <td>706</td>\n",
       "      <td>10.444112</td>\n",
       "    </tr>\n",
       "    <tr>\n",
       "      <td>228</td>\n",
       "      <td>541</td>\n",
       "      <td>10.263537</td>\n",
       "    </tr>\n",
       "    <tr>\n",
       "      <td>89</td>\n",
       "      <td>217</td>\n",
       "      <td>9.641533</td>\n",
       "    </tr>\n",
       "    <tr>\n",
       "      <td>546</td>\n",
       "      <td>1365</td>\n",
       "      <td>9.408599</td>\n",
       "    </tr>\n",
       "    <tr>\n",
       "      <td>360</td>\n",
       "      <td>889</td>\n",
       "      <td>9.287312</td>\n",
       "    </tr>\n",
       "    <tr>\n",
       "      <td>61</td>\n",
       "      <td>151</td>\n",
       "      <td>9.188388</td>\n",
       "    </tr>\n",
       "  </tbody>\n",
       "</table>\n",
       "</div>"
      ],
      "text/plain": [
       "     Client  Revenue_CL\n",
       "275     674   12.473426\n",
       "582    1455   10.863647\n",
       "589    1474   10.516529\n",
       "335     828   10.444112\n",
       "287     706   10.444112\n",
       "228     541   10.263537\n",
       "89      217    9.641533\n",
       "546    1365    9.408599\n",
       "360     889    9.287312\n",
       "61      151    9.188388"
      ]
     },
     "execution_count": 30,
     "metadata": {},
     "output_type": "execute_result"
    }
   ],
   "source": [
    "cl_model_pred = cl_model.predict(test_df[['Sex', 'Age', 'Tenure', 'Count_CA', 'Count_SA', 'Count_MF',\n",
    "       'Count_OVD', 'Count_CC', 'ActBal_CA', 'ActBal_SA',\n",
    "       'ActBal_MF', 'ActBal_OVD', 'ActBal_CC', 'VolumeCred',\n",
    "       'VolumeCred_CA', 'TransactionsCred', 'TransactionsCred_CA', 'VolumeDeb',\n",
    "       'VolumeDeb_CA', 'VolumeDebCash_Card', 'VolumeDebCashless_Card',\n",
    "       'VolumeDeb_PaymentOrder', 'TransactionsDeb', 'TransactionsDeb_CA',\n",
    "       'TransactionsDebCash_Card', 'TransactionsDebCashless_Card',\n",
    "       'TransactionsDeb_PaymentOrder']])\n",
    "\n",
    "cl_model_df = pd.DataFrame({\n",
    "    'Client':  test_df.Client.values,\n",
    "    'Revenue_CL':  cl_model_pred\n",
    "}).sort_values('Revenue_CL', ascending= False)\n",
    "\n",
    "cl_model_df.head(10)"
   ]
  },
  {
   "cell_type": "markdown",
   "metadata": {},
   "source": [
    "### Credit Card"
   ]
  },
  {
   "cell_type": "code",
   "execution_count": 31,
   "metadata": {},
   "outputs": [],
   "source": [
    "X_cc = train_df[['Sex', 'Age', 'Tenure', 'Count_CA', 'Count_SA', 'Count_MF',\n",
    "       'Count_OVD', 'Count_CL', 'ActBal_CA', 'ActBal_SA',\n",
    "       'ActBal_MF', 'ActBal_OVD', 'ActBal_CL', 'VolumeCred',\n",
    "       'VolumeCred_CA', 'TransactionsCred', 'TransactionsCred_CA', 'VolumeDeb',\n",
    "       'VolumeDeb_CA', 'VolumeDebCash_Card', 'VolumeDebCashless_Card',\n",
    "       'VolumeDeb_PaymentOrder', 'TransactionsDeb', 'TransactionsDeb_CA',\n",
    "       'TransactionsDebCash_Card', 'TransactionsDebCashless_Card',\n",
    "       'TransactionsDeb_PaymentOrder']]\n",
    "\n",
    "y_cc = train_df[['Revenue_CC']]\n",
    "\n",
    "X_train_cc, X_test_cc, y_train_cc, y_test_cc = train_test_split(X_cc, y_cc, test_size=0.20, random_state=42)\n",
    "\n",
    "X_train_cc_scaled = scaler.fit_transform(X_train_cc)\n",
    "X_test_cc_scaled = scaler.transform(X_test_cc)"
   ]
  },
  {
   "cell_type": "markdown",
   "metadata": {},
   "source": [
    "#### XGBoost"
   ]
  },
  {
   "cell_type": "code",
   "execution_count": 32,
   "metadata": {},
   "outputs": [
    {
     "data": {
      "text/plain": [
       "GridSearchCV(cv=None, error_score=nan,\n",
       "             estimator=XGBRegressor(base_score=0.5, booster='gbtree',\n",
       "                                    colsample_bylevel=1, colsample_bynode=1,\n",
       "                                    colsample_bytree=1, gamma=0,\n",
       "                                    importance_type='gain', learning_rate=0.2,\n",
       "                                    max_delta_step=0, max_depth=3,\n",
       "                                    min_child_weight=1, missing=None,\n",
       "                                    n_estimators=100, n_jobs=1, nthread=-1,\n",
       "                                    objective='reg:squarederror',\n",
       "                                    random_state=0, reg_alpha...,\n",
       "                                    scale_pos_weight=1, seed=None, silent=None,\n",
       "                                    subsample=1, verbosity=1),\n",
       "             iid='deprecated', n_jobs=None,\n",
       "             param_grid={'colsample_bytree': [0.6, 0.8, 1.0],\n",
       "                         'gamma': [0.5, 1, 1.5, 2, 5], 'max_depth': [3, 4, 5],\n",
       "                         'min_child_weight': [1, 5, 10],\n",
       "                         'n_estimators': [10, 50, 100],\n",
       "                         'subsample': [0.6, 0.8, 1.0]},\n",
       "             pre_dispatch='2*n_jobs', refit=True, return_train_score=False,\n",
       "             scoring=None, verbose=0)"
      ]
     },
     "execution_count": 32,
     "metadata": {},
     "output_type": "execute_result"
    }
   ],
   "source": [
    "params = {'min_child_weight': [1, 5, 10],\n",
    "          'gamma': [0.5, 1, 1.5, 2, 5],\n",
    "          'subsample': [0.6, 0.8, 1.0],\n",
    "          'colsample_bytree': [0.6, 0.8, 1.0],\n",
    "          'max_depth': [3, 4, 5],\n",
    "          'n_estimators': [10, 50, 100]\n",
    "         }\n",
    "\n",
    "clf_xgb = GridSearchCV(xgboost.XGBRegressor(objective ='reg:squarederror', learning_rate = 0.2, nthread=-1),\n",
    "                   params)\n",
    "clf_xgb.fit(X_train_cc_scaled, y_train_cc)"
   ]
  },
  {
   "cell_type": "code",
   "execution_count": 33,
   "metadata": {},
   "outputs": [
    {
     "name": "stdout",
     "output_type": "stream",
     "text": [
      "Mean Squared Error - XGBoost:  902.9424214728296\n"
     ]
    }
   ],
   "source": [
    "print('Mean Squared Error - XGBoost: ',\n",
    "      np.mean((y_test_cc['Revenue_CC'].values - clf_xgb.predict(X_test_cc_scaled))**2))"
   ]
  },
  {
   "cell_type": "markdown",
   "metadata": {},
   "source": [
    "#### RandomForest"
   ]
  },
  {
   "cell_type": "code",
   "execution_count": 34,
   "metadata": {
    "scrolled": false
   },
   "outputs": [
    {
     "data": {
      "text/plain": [
       "GridSearchCV(cv=None, error_score=nan,\n",
       "             estimator=RandomForestRegressor(bootstrap=True, ccp_alpha=0.0,\n",
       "                                             criterion='mse', max_depth=None,\n",
       "                                             max_features='auto',\n",
       "                                             max_leaf_nodes=None,\n",
       "                                             max_samples=None,\n",
       "                                             min_impurity_decrease=0.0,\n",
       "                                             min_impurity_split=None,\n",
       "                                             min_samples_leaf=1,\n",
       "                                             min_samples_split=2,\n",
       "                                             min_weight_fraction_leaf=0.0,\n",
       "                                             n_estimators=100, n_jobs=None,\n",
       "                                             oob_score=False, random_state=None,\n",
       "                                             verbose=0, warm_start=False),\n",
       "             iid='deprecated', n_jobs=-1,\n",
       "             param_grid={'max_depth': range(3, 7),\n",
       "                         'max_features': ['auto', 'sqrt', 'log2'],\n",
       "                         'min_samples_split': [2, 4, 8],\n",
       "                         'n_estimators': [10, 50, 100, 150, 200]},\n",
       "             pre_dispatch='2*n_jobs', refit=True, return_train_score=False,\n",
       "             scoring=None, verbose=0)"
      ]
     },
     "execution_count": 34,
     "metadata": {},
     "output_type": "execute_result"
    }
   ],
   "source": [
    "param_grid = {\n",
    "    \"n_estimators\": [10, 50, 100, 150, 200],\n",
    "    \"max_features\": [\"auto\", \"sqrt\", \"log2\"],\n",
    "    \"min_samples_split\": [2,4,8],\n",
    "    'max_depth': range(3,7)\n",
    "}\n",
    "\n",
    "clf_rf = GridSearchCV(RandomForestRegressor(), param_grid, n_jobs=-1)\n",
    "\n",
    "clf_rf.fit(X_train_cc_scaled, y_train_cc)"
   ]
  },
  {
   "cell_type": "code",
   "execution_count": 35,
   "metadata": {},
   "outputs": [
    {
     "name": "stdout",
     "output_type": "stream",
     "text": [
      "Mean Squared Error - RandomForest:  897.2402102788928\n"
     ]
    }
   ],
   "source": [
    "print('Mean Squared Error - RandomForest: ',\n",
    "      np.mean((y_test_cc['Revenue_CC'].values - clf_rf.predict(X_test_cc_scaled))**2))"
   ]
  },
  {
   "cell_type": "markdown",
   "metadata": {},
   "source": [
    "#### Since, MSE is almose the same for  both models we use XGBoost to make predictions."
   ]
  },
  {
   "cell_type": "code",
   "execution_count": 36,
   "metadata": {},
   "outputs": [
    {
     "data": {
      "text/plain": [
       "{'colsample_bytree': 0.8,\n",
       " 'gamma': 0.5,\n",
       " 'max_depth': 3,\n",
       " 'min_child_weight': 10,\n",
       " 'n_estimators': 10,\n",
       " 'subsample': 1.0}"
      ]
     },
     "execution_count": 36,
     "metadata": {},
     "output_type": "execute_result"
    }
   ],
   "source": [
    "clf_xgb.best_params_"
   ]
  },
  {
   "cell_type": "markdown",
   "metadata": {},
   "source": [
    "Fitting the model with the best parameters."
   ]
  },
  {
   "cell_type": "code",
   "execution_count": 37,
   "metadata": {},
   "outputs": [
    {
     "data": {
      "text/plain": [
       "XGBRegressor(base_score=0.5, booster='gbtree', colsample_bylevel=1,\n",
       "             colsample_bynode=1, colsample_bytree=0.6, gamma=0.5,\n",
       "             importance_type='gain', learning_rate=0.2, max_delta_step=0,\n",
       "             max_depth=5, min_child_weight=10, missing=None, n_estimators=10,\n",
       "             n_jobs=1, nthread=-1, objective='reg:squarederror', random_state=0,\n",
       "             reg_alpha=0, reg_lambda=1, scale_pos_weight=1, seed=None,\n",
       "             silent=None, subsample=0.8, verbosity=1)"
      ]
     },
     "execution_count": 37,
     "metadata": {},
     "output_type": "execute_result"
    }
   ],
   "source": [
    "cc_model = xgboost.XGBRegressor(objective ='reg:squarederror', learning_rate = 0.2, nthread=-1,\n",
    "                             colsample_bytree= 0.6, gamma= 0.5, max_depth= 5,\n",
    "                             min_child_weight= 10, n_estimators= 10, subsample= 0.8) \n",
    "\n",
    "cc_model.fit(X_train_cc_scaled, y_train_cc)"
   ]
  },
  {
   "cell_type": "code",
   "execution_count": 38,
   "metadata": {
    "scrolled": false
   },
   "outputs": [
    {
     "data": {
      "image/png": "[encoded data removed]",
      "text/plain": [
       "<Figure size 720x504 with 1 Axes>"
      ]
     },
     "metadata": {
      "needs_background": "light"
     },
     "output_type": "display_data"
    }
   ],
   "source": [
    "cc_imp_df = pd.DataFrame({'Feature':X_cc.columns,\n",
    "                          'Feature Score': cc_model.feature_importances_})\n",
    "cc_imp_df = cc_imp_df.sort_values(by=['Feature Score'])\n",
    "\n",
    "plt.figure(figsize=(10,7))\n",
    "plt.barh(cc_imp_df['Feature'], cc_imp_df['Feature Score'])\n",
    "plt.title('Credit Card Feature Scores')\n",
    "plt.xlabel('Score')\n",
    "plt.show()"
   ]
  },
  {
   "cell_type": "code",
   "execution_count": 40,
   "metadata": {},
   "outputs": [
    {
     "data": {
      "text/plain": [
       "XGBRegressor(base_score=0.5, booster='gbtree', colsample_bylevel=1,\n",
       "             colsample_bynode=1, colsample_bytree=0.6, gamma=0.5,\n",
       "             importance_type='gain', learning_rate=0.2, max_delta_step=0,\n",
       "             max_depth=5, min_child_weight=10, missing=None, n_estimators=10,\n",
       "             n_jobs=1, nthread=-1, objective='reg:squarederror', random_state=0,\n",
       "             reg_alpha=0, reg_lambda=1, scale_pos_weight=1, seed=None,\n",
       "             silent=None, subsample=0.8, verbosity=1)"
      ]
     },
     "execution_count": 40,
     "metadata": {},
     "output_type": "execute_result"
    }
   ],
   "source": [
    "cc_model.fit(X_cc, y_cc)"
   ]
  },
  {
   "cell_type": "code",
   "execution_count": 41,
   "metadata": {
    "scrolled": true
   },
   "outputs": [
    {
     "data": {
      "text/html": [
       "<div>\n",
       "<style scoped>\n",
       "    .dataframe tbody tr th:only-of-type {\n",
       "        vertical-align: middle;\n",
       "    }\n",
       "\n",
       "    .dataframe tbody tr th {\n",
       "        vertical-align: top;\n",
       "    }\n",
       "\n",
       "    .dataframe thead th {\n",
       "        text-align: right;\n",
       "    }\n",
       "</style>\n",
       "<table border=\"1\" class=\"dataframe\">\n",
       "  <thead>\n",
       "    <tr style=\"text-align: right;\">\n",
       "      <th></th>\n",
       "      <th>Client</th>\n",
       "      <th>Revenue_CC</th>\n",
       "    </tr>\n",
       "  </thead>\n",
       "  <tbody>\n",
       "    <tr>\n",
       "      <td>585</td>\n",
       "      <td>1460</td>\n",
       "      <td>34.038891</td>\n",
       "    </tr>\n",
       "    <tr>\n",
       "      <td>425</td>\n",
       "      <td>1071</td>\n",
       "      <td>27.981695</td>\n",
       "    </tr>\n",
       "    <tr>\n",
       "      <td>371</td>\n",
       "      <td>919</td>\n",
       "      <td>23.403709</td>\n",
       "    </tr>\n",
       "    <tr>\n",
       "      <td>214</td>\n",
       "      <td>516</td>\n",
       "      <td>22.088434</td>\n",
       "    </tr>\n",
       "    <tr>\n",
       "      <td>50</td>\n",
       "      <td>126</td>\n",
       "      <td>18.685383</td>\n",
       "    </tr>\n",
       "  </tbody>\n",
       "</table>\n",
       "</div>"
      ],
      "text/plain": [
       "     Client  Revenue_CC\n",
       "585    1460   34.038891\n",
       "425    1071   27.981695\n",
       "371     919   23.403709\n",
       "214     516   22.088434\n",
       "50      126   18.685383"
      ]
     },
     "execution_count": 41,
     "metadata": {},
     "output_type": "execute_result"
    }
   ],
   "source": [
    "cc_model_pred = cc_model.predict(test_df[['Sex', 'Age', 'Tenure', 'Count_CA', 'Count_SA', 'Count_MF',\n",
    "       'Count_OVD', 'Count_CL', 'ActBal_CA', 'ActBal_SA',\n",
    "       'ActBal_MF', 'ActBal_OVD', 'ActBal_CL', 'VolumeCred',\n",
    "       'VolumeCred_CA', 'TransactionsCred', 'TransactionsCred_CA', 'VolumeDeb',\n",
    "       'VolumeDeb_CA', 'VolumeDebCash_Card', 'VolumeDebCashless_Card',\n",
    "       'VolumeDeb_PaymentOrder', 'TransactionsDeb', 'TransactionsDeb_CA',\n",
    "       'TransactionsDebCash_Card', 'TransactionsDebCashless_Card',\n",
    "       'TransactionsDeb_PaymentOrder']])\n",
    "\n",
    "cc_model_df = pd.DataFrame({\n",
    "    'Client':  test_df.Client.values,\n",
    "    'Revenue_CC':  cc_model_pred\n",
    "}).sort_values('Revenue_CC', ascending= False)\n",
    "\n",
    "cc_model_df.head()"
   ]
  },
  {
   "cell_type": "markdown",
   "metadata": {},
   "source": [
    "### Mutual Fund"
   ]
  },
  {
   "cell_type": "code",
   "execution_count": 42,
   "metadata": {},
   "outputs": [],
   "source": [
    "X_mf = train_df[['Sex', 'Age', 'Tenure', 'Count_CA', 'Count_SA', 'Count_CL',\n",
    "       'Count_OVD', 'Count_CC', 'ActBal_CA', 'ActBal_SA',\n",
    "       'ActBal_MF', 'ActBal_OVD', 'ActBal_CC', 'ActBal_CL', 'VolumeCred',\n",
    "       'VolumeCred_CA', 'TransactionsCred', 'TransactionsCred_CA', 'VolumeDeb',\n",
    "       'VolumeDeb_CA', 'VolumeDebCash_Card', 'VolumeDebCashless_Card',\n",
    "       'VolumeDeb_PaymentOrder', 'TransactionsDeb', 'TransactionsDeb_CA',\n",
    "       'TransactionsDebCash_Card', 'TransactionsDebCashless_Card',\n",
    "       'TransactionsDeb_PaymentOrder']]\n",
    "\n",
    "y_mf = train_df[['Revenue_MF']]\n",
    "\n",
    "X_train_mf, X_test_mf, y_train_mf, y_test_mf = train_test_split(X_mf, y_mf, test_size=0.20, random_state=42)\n",
    "\n",
    "X_train_mf_scaled = scaler.fit_transform(X_train_mf)\n",
    "X_test_mf_scaled = scaler.transform(X_test_mf)"
   ]
  },
  {
   "cell_type": "markdown",
   "metadata": {},
   "source": [
    "#### XGBoost"
   ]
  },
  {
   "cell_type": "code",
   "execution_count": 43,
   "metadata": {},
   "outputs": [
    {
     "data": {
      "text/plain": [
       "GridSearchCV(cv=None, error_score=nan,\n",
       "             estimator=XGBRegressor(base_score=0.5, booster='gbtree',\n",
       "                                    colsample_bylevel=1, colsample_bynode=1,\n",
       "                                    colsample_bytree=1, gamma=0,\n",
       "                                    importance_type='gain', learning_rate=0.2,\n",
       "                                    max_delta_step=0, max_depth=3,\n",
       "                                    min_child_weight=1, missing=None,\n",
       "                                    n_estimators=100, n_jobs=1, nthread=-1,\n",
       "                                    objective='reg:squarederror',\n",
       "                                    random_state=0, reg_alpha...,\n",
       "                                    scale_pos_weight=1, seed=None, silent=None,\n",
       "                                    subsample=1, verbosity=1),\n",
       "             iid='deprecated', n_jobs=None,\n",
       "             param_grid={'colsample_bytree': [0.6, 0.8, 1.0],\n",
       "                         'gamma': [0.5, 1, 1.5, 2, 5], 'max_depth': [3, 4, 5],\n",
       "                         'min_child_weight': [1, 5, 10],\n",
       "                         'n_estimators': [10, 50, 100],\n",
       "                         'subsample': [0.6, 0.8, 1.0]},\n",
       "             pre_dispatch='2*n_jobs', refit=True, return_train_score=False,\n",
       "             scoring=None, verbose=0)"
      ]
     },
     "execution_count": 43,
     "metadata": {},
     "output_type": "execute_result"
    }
   ],
   "source": [
    "params = {'min_child_weight': [1, 5, 10],\n",
    "          'gamma': [0.5, 1, 1.5, 2, 5],\n",
    "          'subsample': [0.6, 0.8, 1.0],\n",
    "          'colsample_bytree': [0.6, 0.8, 1.0],\n",
    "          'max_depth': [3, 4, 5],\n",
    "          'n_estimators': [10, 50, 100]\n",
    "         }\n",
    "\n",
    "clf_xgb = GridSearchCV(xgboost.XGBRegressor(objective ='reg:squarederror', learning_rate = 0.2, nthread=-1),\n",
    "                   params)\n",
    "clf_xgb.fit(X_train_mf_scaled, y_train_mf)"
   ]
  },
  {
   "cell_type": "code",
   "execution_count": 44,
   "metadata": {},
   "outputs": [
    {
     "name": "stdout",
     "output_type": "stream",
     "text": [
      "Mean Squared Error - XGBoost:  57.33297722277491\n"
     ]
    }
   ],
   "source": [
    "print('Mean Squared Error - XGBoost: ',\n",
    "      np.mean((y_test_mf['Revenue_MF'].values - clf_xgb.predict(X_test_mf_scaled))**2))"
   ]
  },
  {
   "cell_type": "markdown",
   "metadata": {},
   "source": [
    "#### RandomForest"
   ]
  },
  {
   "cell_type": "code",
   "execution_count": 45,
   "metadata": {
    "scrolled": false
   },
   "outputs": [
    {
     "data": {
      "text/plain": [
       "GridSearchCV(cv=None, error_score=nan,\n",
       "             estimator=RandomForestRegressor(bootstrap=True, ccp_alpha=0.0,\n",
       "                                             criterion='mse', max_depth=None,\n",
       "                                             max_features='auto',\n",
       "                                             max_leaf_nodes=None,\n",
       "                                             max_samples=None,\n",
       "                                             min_impurity_decrease=0.0,\n",
       "                                             min_impurity_split=None,\n",
       "                                             min_samples_leaf=1,\n",
       "                                             min_samples_split=2,\n",
       "                                             min_weight_fraction_leaf=0.0,\n",
       "                                             n_estimators=100, n_jobs=None,\n",
       "                                             oob_score=False, random_state=None,\n",
       "                                             verbose=0, warm_start=False),\n",
       "             iid='deprecated', n_jobs=-1,\n",
       "             param_grid={'max_depth': range(3, 7),\n",
       "                         'max_features': ['auto', 'sqrt', 'log2'],\n",
       "                         'min_samples_split': [2, 4, 8],\n",
       "                         'n_estimators': [10, 50, 100, 150, 200]},\n",
       "             pre_dispatch='2*n_jobs', refit=True, return_train_score=False,\n",
       "             scoring=None, verbose=0)"
      ]
     },
     "execution_count": 45,
     "metadata": {},
     "output_type": "execute_result"
    }
   ],
   "source": [
    "param_grid = {\n",
    "    \"n_estimators\": [10, 50, 100, 150, 200],\n",
    "    \"max_features\": [\"auto\", \"sqrt\", \"log2\"],\n",
    "    \"min_samples_split\": [2,4,8],\n",
    "    'max_depth': range(3,7)\n",
    "}\n",
    "\n",
    "clf_rf = GridSearchCV(RandomForestRegressor(), param_grid, n_jobs=-1)\n",
    "\n",
    "clf_rf.fit(X_train_mf_scaled, y_train_mf)"
   ]
  },
  {
   "cell_type": "code",
   "execution_count": 46,
   "metadata": {},
   "outputs": [
    {
     "name": "stdout",
     "output_type": "stream",
     "text": [
      "Mean Squared Error - RandomForest:  56.62118604383751\n"
     ]
    }
   ],
   "source": [
    "print('Mean Squared Error - RandomForest: ',\n",
    "      np.mean((y_test_mf['Revenue_MF'].values - clf_rf.predict(X_test_mf_scaled))**2))"
   ]
  },
  {
   "cell_type": "markdown",
   "metadata": {},
   "source": [
    "#### Since, MSE is almose the same for  both models we use RandomForest to make predictions."
   ]
  },
  {
   "cell_type": "code",
   "execution_count": 47,
   "metadata": {},
   "outputs": [
    {
     "data": {
      "text/plain": [
       "{'max_depth': 3,\n",
       " 'max_features': 'log2',\n",
       " 'min_samples_split': 8,\n",
       " 'n_estimators': 100}"
      ]
     },
     "execution_count": 47,
     "metadata": {},
     "output_type": "execute_result"
    }
   ],
   "source": [
    "clf_rf.best_params_"
   ]
  },
  {
   "cell_type": "markdown",
   "metadata": {},
   "source": [
    "Fitting the model with the best parameters."
   ]
  },
  {
   "cell_type": "code",
   "execution_count": 48,
   "metadata": {},
   "outputs": [
    {
     "data": {
      "text/plain": [
       "RandomForestRegressor(bootstrap=True, ccp_alpha=0.0, criterion='mse',\n",
       "                      max_depth=3, max_features='log2', max_leaf_nodes=None,\n",
       "                      max_samples=None, min_impurity_decrease=0.0,\n",
       "                      min_impurity_split=None, min_samples_leaf=1,\n",
       "                      min_samples_split=2, min_weight_fraction_leaf=0.0,\n",
       "                      n_estimators=150, n_jobs=None, oob_score=False,\n",
       "                      random_state=None, verbose=0, warm_start=False)"
      ]
     },
     "execution_count": 48,
     "metadata": {},
     "output_type": "execute_result"
    }
   ],
   "source": [
    "mf_model = RandomForestRegressor(max_depth= 3, max_features= 'log2',\n",
    "                             min_samples_split= 2, n_estimators= 150)\n",
    "\n",
    "mf_model.fit(X_train_mf_scaled, y_train_mf)"
   ]
  },
  {
   "cell_type": "code",
   "execution_count": 49,
   "metadata": {
    "scrolled": false
   },
   "outputs": [
    {
     "data": {
      "image/png": "[encoded data removed]",
      "text/plain": [
       "<Figure size 720x504 with 1 Axes>"
      ]
     },
     "metadata": {
      "needs_background": "light"
     },
     "output_type": "display_data"
    }
   ],
   "source": [
    "mf_imp_df = pd.DataFrame({'Feature':X_mf.columns,\n",
    "                          'Feature Score': mf_model.feature_importances_})\n",
    "mf_imp_df = mf_imp_df.sort_values(by=['Feature Score'])\n",
    "\n",
    "plt.figure(figsize=(10,7))\n",
    "plt.barh(mf_imp_df['Feature'], mf_imp_df['Feature Score'])\n",
    "plt.title('Mutual Fund Feature Scores')\n",
    "plt.xlabel('Score')\n",
    "plt.show()"
   ]
  },
  {
   "cell_type": "code",
   "execution_count": 50,
   "metadata": {},
   "outputs": [
    {
     "data": {
      "text/plain": [
       "RandomForestRegressor(bootstrap=True, ccp_alpha=0.0, criterion='mse',\n",
       "                      max_depth=3, max_features='log2', max_leaf_nodes=None,\n",
       "                      max_samples=None, min_impurity_decrease=0.0,\n",
       "                      min_impurity_split=None, min_samples_leaf=1,\n",
       "                      min_samples_split=2, min_weight_fraction_leaf=0.0,\n",
       "                      n_estimators=150, n_jobs=None, oob_score=False,\n",
       "                      random_state=None, verbose=0, warm_start=False)"
      ]
     },
     "execution_count": 50,
     "metadata": {},
     "output_type": "execute_result"
    }
   ],
   "source": [
    "mf_model.fit(X_mf, y_mf)"
   ]
  },
  {
   "cell_type": "code",
   "execution_count": 51,
   "metadata": {
    "scrolled": true
   },
   "outputs": [
    {
     "data": {
      "text/html": [
       "<div>\n",
       "<style scoped>\n",
       "    .dataframe tbody tr th:only-of-type {\n",
       "        vertical-align: middle;\n",
       "    }\n",
       "\n",
       "    .dataframe tbody tr th {\n",
       "        vertical-align: top;\n",
       "    }\n",
       "\n",
       "    .dataframe thead th {\n",
       "        text-align: right;\n",
       "    }\n",
       "</style>\n",
       "<table border=\"1\" class=\"dataframe\">\n",
       "  <thead>\n",
       "    <tr style=\"text-align: right;\">\n",
       "      <th></th>\n",
       "      <th>Client</th>\n",
       "      <th>Revenue_MF</th>\n",
       "    </tr>\n",
       "  </thead>\n",
       "  <tbody>\n",
       "    <tr>\n",
       "      <td>606</td>\n",
       "      <td>1508</td>\n",
       "      <td>22.817241</td>\n",
       "    </tr>\n",
       "    <tr>\n",
       "      <td>223</td>\n",
       "      <td>532</td>\n",
       "      <td>20.732315</td>\n",
       "    </tr>\n",
       "    <tr>\n",
       "      <td>308</td>\n",
       "      <td>766</td>\n",
       "      <td>15.094122</td>\n",
       "    </tr>\n",
       "    <tr>\n",
       "      <td>136</td>\n",
       "      <td>330</td>\n",
       "      <td>13.450985</td>\n",
       "    </tr>\n",
       "    <tr>\n",
       "      <td>248</td>\n",
       "      <td>596</td>\n",
       "      <td>13.176596</td>\n",
       "    </tr>\n",
       "  </tbody>\n",
       "</table>\n",
       "</div>"
      ],
      "text/plain": [
       "     Client  Revenue_MF\n",
       "606    1508   22.817241\n",
       "223     532   20.732315\n",
       "308     766   15.094122\n",
       "136     330   13.450985\n",
       "248     596   13.176596"
      ]
     },
     "execution_count": 51,
     "metadata": {},
     "output_type": "execute_result"
    }
   ],
   "source": [
    "mf_model_pred = mf_model.predict(test_df[['Sex', 'Age', 'Tenure', 'Count_CA', 'Count_SA', 'Count_CL',\n",
    "       'Count_OVD', 'Count_CC', 'ActBal_CA', 'ActBal_SA',\n",
    "       'ActBal_MF', 'ActBal_OVD', 'ActBal_CC', 'ActBal_CL', 'VolumeCred',\n",
    "       'VolumeCred_CA', 'TransactionsCred', 'TransactionsCred_CA', 'VolumeDeb',\n",
    "       'VolumeDeb_CA', 'VolumeDebCash_Card', 'VolumeDebCashless_Card',\n",
    "       'VolumeDeb_PaymentOrder', 'TransactionsDeb', 'TransactionsDeb_CA',\n",
    "       'TransactionsDebCash_Card', 'TransactionsDebCashless_Card',\n",
    "       'TransactionsDeb_PaymentOrder']])\n",
    "\n",
    "mf_model_df = pd.DataFrame({\n",
    "    'Client':  test_df.Client.values,\n",
    "    'Revenue_MF':  mf_model_pred\n",
    "}).sort_values('Revenue_MF', ascending= False)\n",
    "\n",
    "mf_model_df.head()"
   ]
  },
  {
   "cell_type": "markdown",
   "metadata": {},
   "source": [
    "## 6. Results"
   ]
  },
  {
   "cell_type": "markdown",
   "metadata": {},
   "source": [
    "### Consumer Loan"
   ]
  },
  {
   "cell_type": "markdown",
   "metadata": {},
   "source": [
    "Below is list of cliets who if offered a consumer loan have higher propensity to buy and generate the most revenues."
   ]
  },
  {
   "cell_type": "code",
   "execution_count": 64,
   "metadata": {},
   "outputs": [
    {
     "data": {
      "text/plain": [
       "array([ 674, 1455, 1474,  828,  706,  541,  217, 1365,  889,  151, 1096,\n",
       "       1599, 1530,  331,  697,  389,  498, 1510,  532, 1349,  779,  330,\n",
       "       1343,  731,  886,  786,  948,  342,  454,  878, 1119,  504, 1110,\n",
       "       1192,  535,    4,  347,  978, 1031,  715,  844, 1077,  224,  350,\n",
       "       1491, 1225, 1252, 1097,  265, 1073, 1321,  117, 1611,  111, 1210,\n",
       "         84,  126,  485,  524,  206,  710, 1443,  607,  164, 1185,  155,\n",
       "        923, 1332,  940,  240,  701,  231, 1123, 1289,    7,  695,  373,\n",
       "        459,  228,  975, 1186,  699, 1341,  868,  750,  314, 1497,  728,\n",
       "       1358, 1356, 1360, 1063, 1051,  832,  474,  243, 1594,   89,    9,\n",
       "        329])"
      ]
     },
     "execution_count": 64,
     "metadata": {},
     "output_type": "execute_result"
    }
   ],
   "source": [
    "cl_model_df['Client'].values[:100]"
   ]
  },
  {
   "cell_type": "code",
   "execution_count": 65,
   "metadata": {},
   "outputs": [
    {
     "name": "stdout",
     "output_type": "stream",
     "text": [
      "The expected total revenue generated if the above clients accept the loan is: EUR 651.298\n"
     ]
    }
   ],
   "source": [
    "print('The expected total revenue generated if the above clients accept the loan is: EUR',\n",
    "      round(cl_model_df['Revenue_CL'].values[:100].sum(), 3)) "
   ]
  },
  {
   "cell_type": "markdown",
   "metadata": {},
   "source": [
    "### Credit Card"
   ]
  },
  {
   "cell_type": "markdown",
   "metadata": {},
   "source": [
    "Below is list of cliets who if offered a credit card have higher propensity to buy credit card and generate the most revenues."
   ]
  },
  {
   "cell_type": "code",
   "execution_count": 66,
   "metadata": {},
   "outputs": [
    {
     "data": {
      "text/plain": [
       "array([1460, 1071,  919,  516,  126, 1263, 1162,  383,  541, 1480,  381,\n",
       "         84, 1365,  727,  350,  401,  431,  336,  166,  243, 1374, 1443,\n",
       "        931, 1550,  583,  467,  866,  331, 1511, 1296,  620,  496,  803,\n",
       "        828,  153,  996, 1107,  596, 1389,  958,  373, 1262, 1457,  484,\n",
       "       1051,  641, 1077, 1510, 1278, 1080, 1064,  951,  555,  168,  842,\n",
       "       1503,  794,  174, 1455, 1002,  505,  715,  196,  521, 1037,   99,\n",
       "       1240,   97,  965,    7,  463,  954, 1494,  592,  368, 1599, 1398,\n",
       "        798,  706,  488, 1324,  389,  923,  957,  543,  851, 1594,  347,\n",
       "        799,  813,  532, 1192, 1343,  128, 1349,  570, 1410, 1134,  355,\n",
       "       1139])"
      ]
     },
     "execution_count": 66,
     "metadata": {},
     "output_type": "execute_result"
    }
   ],
   "source": [
    "cc_model_df['Client'].values[:100]"
   ]
  },
  {
   "cell_type": "code",
   "execution_count": 67,
   "metadata": {},
   "outputs": [
    {
     "name": "stdout",
     "output_type": "stream",
     "text": [
      "The expected total revenue generated if the above clients accept credit card is: EUR 1024.392\n"
     ]
    }
   ],
   "source": [
    "print('The expected total revenue generated if the above clients accept credit card is: EUR',\n",
    "      round(cc_model_df['Revenue_CC'].values[:100].sum(), 3)) "
   ]
  },
  {
   "cell_type": "markdown",
   "metadata": {},
   "source": [
    "### Mutual Fund"
   ]
  },
  {
   "cell_type": "markdown",
   "metadata": {},
   "source": [
    "Below is list of cliets who if offered a credit card have higher propensity to buy mutual fund and generate the most revenues."
   ]
  },
  {
   "cell_type": "code",
   "execution_count": 68,
   "metadata": {},
   "outputs": [
    {
     "data": {
      "text/plain": [
       "array([1508,  532,  766,  330,  596,  217,  110, 1098, 1093,  785,  392,\n",
       "       1008, 1051,  313, 1541,  566, 1468,  839,   51,  505, 1445, 1599,\n",
       "       1200,  196, 1373, 1510,  307,  224,  265, 1145,  530,  197,  216,\n",
       "       1207,  463,  707,  929, 1518,   84,  541,  835,  211,  411, 1380,\n",
       "        314, 1610,  239,  153, 1132, 1410,  668,  206,  522,  543, 1077,\n",
       "       1119,  362,  748, 1107,  381,  200,  697, 1478,  368,  813, 1146,\n",
       "        616,  309, 1071, 1458, 1546,  379,  188, 1604, 1251,   57,  957,\n",
       "       1134, 1243, 1457,  940, 1343,  799, 1026,  383,  394,  358,  779,\n",
       "         64,  583,  243,  375, 1226, 1289, 1358,  796, 1112, 1588, 1390,\n",
       "        936])"
      ]
     },
     "execution_count": 68,
     "metadata": {},
     "output_type": "execute_result"
    }
   ],
   "source": [
    "mf_model_df['Client'].values[:100]"
   ]
  },
  {
   "cell_type": "code",
   "execution_count": 69,
   "metadata": {},
   "outputs": [
    {
     "name": "stdout",
     "output_type": "stream",
     "text": [
      "The expected total revenue generated if the above clients buy mutual fund is: EUR 430.988\n"
     ]
    }
   ],
   "source": [
    "print('The expected total revenue generated if the above clients buy mutual fund is: EUR', \n",
    "      round(mf_model_df['Revenue_MF'].values[:100].sum(),3)) "
   ]
  }
 ],
 "metadata": {
  "kernelspec": {
   "display_name": "Python 3",
   "language": "python",
   "name": "python3"
  },
  "language_info": {
   "codemirror_mode": {
    "name": "ipython",
    "version": 3
   },
   "file_extension": ".py",
   "mimetype": "text/x-python",
   "name": "python",
   "nbconvert_exporter": "python",
   "pygments_lexer": "ipython3",
   "version": "3.7.3"
  }
 },
 "nbformat": 4,
 "nbformat_minor": 2
}
